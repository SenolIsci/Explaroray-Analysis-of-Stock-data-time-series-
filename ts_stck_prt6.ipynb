{
  "nbformat": 4,
  "nbformat_minor": 0,
  "metadata": {
    "colab": {
      "name": "ts_stck_prt6",
      "provenance": [],
      "collapsed_sections": []
    },
    "kernelspec": {
      "name": "python3",
      "display_name": "Python 3"
    }
  },
  "cells": [
    {
      "cell_type": "code",
      "metadata": {
        "id": "EYiW6D7xt34w",
        "colab": {
          "base_uri": "https://localhost:8080/"
        },
        "outputId": "d32918c7-3041-4f57-a76d-c57a7b62335e"
      },
      "source": [
        "import pandas as pd\n",
        "import numpy as np\n",
        "import matplotlib.pyplot as plt\n",
        "from statsmodels.tsa.stattools import adfuller"
      ],
      "execution_count": 1,
      "outputs": [
        {
          "output_type": "stream",
          "text": [
            "/usr/local/lib/python3.6/dist-packages/statsmodels/tools/_testing.py:19: FutureWarning: pandas.util.testing is deprecated. Use the functions in the public API at pandas.testing instead.\n",
            "  import pandas.util.testing as tm\n"
          ],
          "name": "stderr"
        }
      ]
    },
    {
      "cell_type": "code",
      "metadata": {
        "id": "AT3S2QOct9Hb",
        "colab": {
          "base_uri": "https://localhost:8080/"
        },
        "outputId": "605f033b-5fd3-4b6e-e72c-616f3ea9678f"
      },
      "source": [
        "!wget -nc https://lazyprogrammer.me/course_files/airline_passengers.csv"
      ],
      "execution_count": 2,
      "outputs": [
        {
          "output_type": "stream",
          "text": [
            "--2020-11-30 14:52:18--  https://lazyprogrammer.me/course_files/airline_passengers.csv\n",
            "Resolving lazyprogrammer.me (lazyprogrammer.me)... 172.67.213.166, 104.31.80.48, 104.31.81.48, ...\n",
            "Connecting to lazyprogrammer.me (lazyprogrammer.me)|172.67.213.166|:443... connected.\n",
            "HTTP request sent, awaiting response... 200 OK\n",
            "Length: 2036 (2.0K) [text/csv]\n",
            "Saving to: ‘airline_passengers.csv’\n",
            "\n",
            "airline_passengers. 100%[===================>]   1.99K  --.-KB/s    in 0s      \n",
            "\n",
            "2020-11-30 14:52:19 (35.0 MB/s) - ‘airline_passengers.csv’ saved [2036/2036]\n",
            "\n"
          ],
          "name": "stdout"
        }
      ]
    },
    {
      "cell_type": "code",
      "metadata": {
        "id": "t8YlNCCauCjG"
      },
      "source": [
        "df = pd.read_csv('airline_passengers.csv', index_col='Month', parse_dates=True)"
      ],
      "execution_count": 3,
      "outputs": []
    },
    {
      "cell_type": "code",
      "metadata": {
        "id": "KfquK9p8uE9r",
        "colab": {
          "base_uri": "https://localhost:8080/",
          "height": 279
        },
        "outputId": "6d627ffc-7c66-4c40-984a-774503ea7d4e"
      },
      "source": [
        "df.plot();"
      ],
      "execution_count": 4,
      "outputs": [
        {
          "output_type": "display_data",
          "data": {
            "image/png": "[encoded data removed]",
            "text/plain": [
              "<Figure size 432x288 with 1 Axes>"
            ]
          },
          "metadata": {
            "tags": [],
            "needs_background": "light"
          }
        }
      ]
    },
    {
      "cell_type": "code",
      "metadata": {
        "id": "YxMv7MWBuHgm",
        "colab": {
          "base_uri": "https://localhost:8080/"
        },
        "outputId": "25eab908-fb17-4e0e-d9b5-b3994da679b4"
      },
      "source": [
        "adfuller(df['Passengers'])"
      ],
      "execution_count": 5,
      "outputs": [
        {
          "output_type": "execute_result",
          "data": {
            "text/plain": [
              "(0.815368879206047,\n",
              " 0.991880243437641,\n",
              " 13,\n",
              " 130,\n",
              " {'1%': -3.4816817173418295,\n",
              "  '10%': -2.578770059171598,\n",
              "  '5%': -2.8840418343195267},\n",
              " 996.6929308390189)"
            ]
          },
          "metadata": {
            "tags": []
          },
          "execution_count": 5
        }
      ]
    },
    {
      "cell_type": "code",
      "metadata": {
        "id": "V9UFX7bouZB6"
      },
      "source": [
        "# first 2 return values are test-statistic and p-value\n",
        "# https://www.statsmodels.org/dev/generated/statsmodels.tsa.stattools.adfuller.html"
      ],
      "execution_count": 6,
      "outputs": []
    },
    {
      "cell_type": "code",
      "metadata": {
        "id": "XV2mRLJ8ufwX"
      },
      "source": [
        "def adf(x,verbose=True):\n",
        "  res = adfuller(x)\n",
        "  if verbose:\n",
        "    print(\"Test-Statistic:\", res[0])\n",
        "    print(\"P-Value:\", res[1])\n",
        "  if res[1] < 0.05:\n",
        "    if verbose:\n",
        "      print(\"Stationary\")\n",
        "    return \"Stationary\"\n",
        "  else:\n",
        "    if verbose:\n",
        "      print(\"Non-Stationary\")\n",
        "    return \"Non-Stationary\""
      ],
      "execution_count": 48,
      "outputs": []
    },
    {
      "cell_type": "code",
      "metadata": {
        "id": "gzWtedmBuvwl",
        "colab": {
          "base_uri": "https://localhost:8080/"
        },
        "outputId": "e65a2fbb-6e0a-4485-ee08-6e173c479162"
      },
      "source": [
        "adf(df['Passengers'])"
      ],
      "execution_count": 8,
      "outputs": [
        {
          "output_type": "stream",
          "text": [
            "Test-Statistic: 0.815368879206047\n",
            "P-Value: 0.991880243437641\n",
            "Non-Stationary\n"
          ],
          "name": "stdout"
        }
      ]
    },
    {
      "cell_type": "code",
      "metadata": {
        "id": "WO5WDOCEuyLB",
        "colab": {
          "base_uri": "https://localhost:8080/"
        },
        "outputId": "778efecd-14c6-4608-a2d0-28c4fb03c50d"
      },
      "source": [
        "adf(np.random.randn(100))"
      ],
      "execution_count": 9,
      "outputs": [
        {
          "output_type": "stream",
          "text": [
            "Test-Statistic: -10.851742928387495\n",
            "P-Value: 1.5226428872294073e-19\n",
            "Stationary\n"
          ],
          "name": "stdout"
        }
      ]
    },
    {
      "cell_type": "code",
      "metadata": {
        "id": "IyKRHl41u2F8",
        "colab": {
          "base_uri": "https://localhost:8080/"
        },
        "outputId": "54f6196c-44d7-4135-9418-6456ef738617"
      },
      "source": [
        "adf(np.random.gamma(1, 1, 100))"
      ],
      "execution_count": 10,
      "outputs": [
        {
          "output_type": "stream",
          "text": [
            "Test-Statistic: -9.148570130814408\n",
            "P-Value: 2.7254618136989313e-15\n",
            "Stationary\n"
          ],
          "name": "stdout"
        }
      ]
    },
    {
      "cell_type": "code",
      "metadata": {
        "id": "_LDGNq4_vFWy"
      },
      "source": [
        "df['LogPassengers'] = np.log(df['Passengers'])"
      ],
      "execution_count": 11,
      "outputs": []
    },
    {
      "cell_type": "code",
      "metadata": {
        "id": "yOl-TIYivMu4",
        "colab": {
          "base_uri": "https://localhost:8080/"
        },
        "outputId": "47eeb5b4-fcea-48a6-ae43-8e2df915e2d2"
      },
      "source": [
        "adf(df['LogPassengers'])"
      ],
      "execution_count": 12,
      "outputs": [
        {
          "output_type": "stream",
          "text": [
            "Test-Statistic: -1.7170170891069605\n",
            "P-Value: 0.42236677477039125\n",
            "Non-Stationary\n"
          ],
          "name": "stdout"
        }
      ]
    },
    {
      "cell_type": "code",
      "metadata": {
        "id": "x1qsy1W1vPEk"
      },
      "source": [
        "df['Diff'] = df['Passengers'].diff()"
      ],
      "execution_count": 13,
      "outputs": []
    },
    {
      "cell_type": "code",
      "metadata": {
        "id": "rf_X21dyvgLc",
        "colab": {
          "base_uri": "https://localhost:8080/",
          "height": 296
        },
        "outputId": "0bb38cdd-790b-4936-ed28-86bb7c5ef477"
      },
      "source": [
        "df['Diff'].plot()"
      ],
      "execution_count": 14,
      "outputs": [
        {
          "output_type": "execute_result",
          "data": {
            "text/plain": [
              "<matplotlib.axes._subplots.AxesSubplot at 0x7f6336ce0630>"
            ]
          },
          "metadata": {
            "tags": []
          },
          "execution_count": 14
        },
        {
          "output_type": "display_data",
          "data": {
            "image/png": "[encoded data removed]",
            "text/plain": [
              "<Figure size 432x288 with 1 Axes>"
            ]
          },
          "metadata": {
            "tags": [],
            "needs_background": "light"
          }
        }
      ]
    },
    {
      "cell_type": "code",
      "metadata": {
        "id": "kcNMnvIOvifV",
        "colab": {
          "base_uri": "https://localhost:8080/"
        },
        "outputId": "14f6d52c-c44f-46fc-e556-aa8833e2260e"
      },
      "source": [
        "adf(df['Diff'].dropna())"
      ],
      "execution_count": 15,
      "outputs": [
        {
          "output_type": "stream",
          "text": [
            "Test-Statistic: -2.8292668241700056\n",
            "P-Value: 0.054213290283824704\n",
            "Non-Stationary\n"
          ],
          "name": "stdout"
        }
      ]
    },
    {
      "cell_type": "code",
      "metadata": {
        "id": "9gX43CW6vnAz"
      },
      "source": [
        "df['DiffLog'] = df['LogPassengers'].diff()"
      ],
      "execution_count": 16,
      "outputs": []
    },
    {
      "cell_type": "code",
      "metadata": {
        "id": "2BzCAax3vziu",
        "colab": {
          "base_uri": "https://localhost:8080/",
          "height": 296
        },
        "outputId": "5743c5fe-0807-4783-bbe6-efda5ecb893f"
      },
      "source": [
        "df['DiffLog'].plot()"
      ],
      "execution_count": 17,
      "outputs": [
        {
          "output_type": "execute_result",
          "data": {
            "text/plain": [
              "<matplotlib.axes._subplots.AxesSubplot at 0x7f63368636a0>"
            ]
          },
          "metadata": {
            "tags": []
          },
          "execution_count": 17
        },
        {
          "output_type": "display_data",
          "data": {
            "image/png": "[encoded data removed]",
            "text/plain": [
              "<Figure size 432x288 with 1 Axes>"
            ]
          },
          "metadata": {
            "tags": [],
            "needs_background": "light"
          }
        }
      ]
    },
    {
      "cell_type": "code",
      "metadata": {
        "id": "lRmj-B8LvrEM",
        "colab": {
          "base_uri": "https://localhost:8080/"
        },
        "outputId": "cd4f9872-a6db-4ed1-8c93-118b8ca63d3f"
      },
      "source": [
        "adf(df['DiffLog'].dropna())"
      ],
      "execution_count": 22,
      "outputs": [
        {
          "output_type": "stream",
          "text": [
            "Test-Statistic: -2.7171305983881284\n",
            "P-Value: 0.0711205481508595\n",
            "Non-Stationary\n"
          ],
          "name": "stdout"
        }
      ]
    },
    {
      "cell_type": "code",
      "metadata": {
        "id": "jN0tsGJpv9t_",
        "colab": {
          "base_uri": "https://localhost:8080/"
        },
        "outputId": "898d1098-8f80-4c74-8dc7-6fc617f1133d"
      },
      "source": [
        "!wget -nc https://lazyprogrammer.me/course_files/sp500sub.csv"
      ],
      "execution_count": 27,
      "outputs": [
        {
          "output_type": "stream",
          "text": [
            "--2020-11-30 14:55:15--  https://lazyprogrammer.me/course_files/sp500sub.csv\n",
            "Resolving lazyprogrammer.me (lazyprogrammer.me)... 104.31.80.48, 104.31.81.48, 172.67.213.166, ...\n",
            "Connecting to lazyprogrammer.me (lazyprogrammer.me)|104.31.80.48|:443... connected.\n",
            "HTTP request sent, awaiting response... 200 OK\n",
            "Length: 25473876 (24M) [text/csv]\n",
            "Saving to: ‘sp500sub.csv’\n",
            "\n",
            "sp500sub.csv        100%[===================>]  24.29M   443KB/s    in 60s     \n",
            "\n",
            "2020-11-30 14:56:17 (412 KB/s) - ‘sp500sub.csv’ saved [25473876/25473876]\n",
            "\n"
          ],
          "name": "stdout"
        }
      ]
    },
    {
      "cell_type": "code",
      "metadata": {
        "id": "o10Tq4IkwID7"
      },
      "source": [
        "stocks = pd.read_csv('sp500sub.csv', index_col='Date', parse_dates=True)\n"
      ],
      "execution_count": 28,
      "outputs": []
    },
    {
      "cell_type": "code",
      "metadata": {
        "colab": {
          "base_uri": "https://localhost:8080/",
          "height": 235
        },
        "id": "JT8sYLgup8Uy",
        "outputId": "4c7f46e3-7c81-472d-a168-8117d5b2645e"
      },
      "source": [
        "stocks.head()"
      ],
      "execution_count": 29,
      "outputs": [
        {
          "output_type": "execute_result",
          "data": {
            "text/html": [
              "<div>\n",
              "<style scoped>\n",
              "    .dataframe tbody tr th:only-of-type {\n",
              "        vertical-align: middle;\n",
              "    }\n",
              "\n",
              "    .dataframe tbody tr th {\n",
              "        vertical-align: top;\n",
              "    }\n",
              "\n",
              "    .dataframe thead th {\n",
              "        text-align: right;\n",
              "    }\n",
              "</style>\n",
              "<table border=\"1\" class=\"dataframe\">\n",
              "  <thead>\n",
              "    <tr style=\"text-align: right;\">\n",
              "      <th></th>\n",
              "      <th>Open</th>\n",
              "      <th>High</th>\n",
              "      <th>Low</th>\n",
              "      <th>Close</th>\n",
              "      <th>Adj Close</th>\n",
              "      <th>Volume</th>\n",
              "      <th>Name</th>\n",
              "    </tr>\n",
              "    <tr>\n",
              "      <th>Date</th>\n",
              "      <th></th>\n",
              "      <th></th>\n",
              "      <th></th>\n",
              "      <th></th>\n",
              "      <th></th>\n",
              "      <th></th>\n",
              "      <th></th>\n",
              "    </tr>\n",
              "  </thead>\n",
              "  <tbody>\n",
              "    <tr>\n",
              "      <th>2010-01-04</th>\n",
              "      <td>9.22</td>\n",
              "      <td>9.51</td>\n",
              "      <td>9.17</td>\n",
              "      <td>9.50</td>\n",
              "      <td>9.50</td>\n",
              "      <td>1865400.0</td>\n",
              "      <td>INCY</td>\n",
              "    </tr>\n",
              "    <tr>\n",
              "      <th>2010-01-05</th>\n",
              "      <td>9.51</td>\n",
              "      <td>10.29</td>\n",
              "      <td>9.45</td>\n",
              "      <td>10.27</td>\n",
              "      <td>10.27</td>\n",
              "      <td>7608900.0</td>\n",
              "      <td>INCY</td>\n",
              "    </tr>\n",
              "    <tr>\n",
              "      <th>2010-01-06</th>\n",
              "      <td>10.38</td>\n",
              "      <td>11.09</td>\n",
              "      <td>10.35</td>\n",
              "      <td>11.00</td>\n",
              "      <td>11.00</td>\n",
              "      <td>8046700.0</td>\n",
              "      <td>INCY</td>\n",
              "    </tr>\n",
              "    <tr>\n",
              "      <th>2010-01-07</th>\n",
              "      <td>11.00</td>\n",
              "      <td>11.06</td>\n",
              "      <td>10.62</td>\n",
              "      <td>10.82</td>\n",
              "      <td>10.82</td>\n",
              "      <td>3680300.0</td>\n",
              "      <td>INCY</td>\n",
              "    </tr>\n",
              "    <tr>\n",
              "      <th>2010-01-08</th>\n",
              "      <td>10.82</td>\n",
              "      <td>11.00</td>\n",
              "      <td>10.75</td>\n",
              "      <td>10.94</td>\n",
              "      <td>10.94</td>\n",
              "      <td>1529300.0</td>\n",
              "      <td>INCY</td>\n",
              "    </tr>\n",
              "  </tbody>\n",
              "</table>\n",
              "</div>"
            ],
            "text/plain": [
              "             Open   High    Low  Close  Adj Close     Volume  Name\n",
              "Date                                                              \n",
              "2010-01-04   9.22   9.51   9.17   9.50       9.50  1865400.0  INCY\n",
              "2010-01-05   9.51  10.29   9.45  10.27      10.27  7608900.0  INCY\n",
              "2010-01-06  10.38  11.09  10.35  11.00      11.00  8046700.0  INCY\n",
              "2010-01-07  11.00  11.06  10.62  10.82      10.82  3680300.0  INCY\n",
              "2010-01-08  10.82  11.00  10.75  10.94      10.94  1529300.0  INCY"
            ]
          },
          "metadata": {
            "tags": []
          },
          "execution_count": 29
        }
      ]
    },
    {
      "cell_type": "code",
      "metadata": {
        "colab": {
          "base_uri": "https://localhost:8080/"
        },
        "id": "QVgV1eN3ov7n",
        "outputId": "de3e2b83-d85b-4b9e-f5b7-e1907202a5fa"
      },
      "source": [
        "from google.colab import drive\n",
        "drive.mount('/content/gdrive')\n",
        "import os\n",
        "os.chdir('gdrive/My Drive/projects/timeseries')\n",
        "!l"
      ],
      "execution_count": 23,
      "outputs": [
        {
          "output_type": "stream",
          "text": [
            "Mounted at /content/gdrive\n",
            "/bin/bash: l: command not found\n"
          ],
          "name": "stdout"
        }
      ]
    },
    {
      "cell_type": "code",
      "metadata": {
        "id": "v8jsC5dHozq5"
      },
      "source": [
        "stocks=pd.read_csv('sp500_close.csv', index_col=0, parse_dates=True)"
      ],
      "execution_count": 31,
      "outputs": []
    },
    {
      "cell_type": "code",
      "metadata": {
        "id": "Y2G5yskPwJtj",
        "colab": {
          "base_uri": "https://localhost:8080/",
          "height": 204
        },
        "outputId": "1c09e2be-87b5-441b-8dd7-03a4bc8ae585"
      },
      "source": [
        "stocks.head()"
      ],
      "execution_count": 32,
      "outputs": [
        {
          "output_type": "execute_result",
          "data": {
            "text/html": [
              "<div>\n",
              "<style scoped>\n",
              "    .dataframe tbody tr th:only-of-type {\n",
              "        vertical-align: middle;\n",
              "    }\n",
              "\n",
              "    .dataframe tbody tr th {\n",
              "        vertical-align: top;\n",
              "    }\n",
              "\n",
              "    .dataframe thead th {\n",
              "        text-align: right;\n",
              "    }\n",
              "</style>\n",
              "<table border=\"1\" class=\"dataframe\">\n",
              "  <thead>\n",
              "    <tr style=\"text-align: right;\">\n",
              "      <th></th>\n",
              "      <th>TSLA</th>\n",
              "      <th>INTC</th>\n",
              "      <th>AMD</th>\n",
              "      <th>AAPL</th>\n",
              "      <th>MSFT</th>\n",
              "      <th>SPY</th>\n",
              "      <th>GOOG</th>\n",
              "      <th>FB</th>\n",
              "      <th>IBM</th>\n",
              "    </tr>\n",
              "  </thead>\n",
              "  <tbody>\n",
              "    <tr>\n",
              "      <th>2014-03-27</th>\n",
              "      <td>41.464</td>\n",
              "      <td>21.018478</td>\n",
              "      <td>3.91</td>\n",
              "      <td>17.226390</td>\n",
              "      <td>34.295100</td>\n",
              "      <td>162.358036</td>\n",
              "      <td>558.46</td>\n",
              "      <td>60.97</td>\n",
              "      <td>145.173820</td>\n",
              "    </tr>\n",
              "    <tr>\n",
              "      <th>2014-03-28</th>\n",
              "      <td>42.474</td>\n",
              "      <td>21.275915</td>\n",
              "      <td>3.88</td>\n",
              "      <td>17.207159</td>\n",
              "      <td>35.114139</td>\n",
              "      <td>163.158480</td>\n",
              "      <td>559.99</td>\n",
              "      <td>60.01</td>\n",
              "      <td>145.647970</td>\n",
              "    </tr>\n",
              "    <tr>\n",
              "      <th>2014-03-31</th>\n",
              "      <td>41.690</td>\n",
              "      <td>21.437021</td>\n",
              "      <td>4.01</td>\n",
              "      <td>17.203313</td>\n",
              "      <td>35.715349</td>\n",
              "      <td>164.495484</td>\n",
              "      <td>556.97</td>\n",
              "      <td>60.24</td>\n",
              "      <td>147.208074</td>\n",
              "    </tr>\n",
              "    <tr>\n",
              "      <th>2014-04-01</th>\n",
              "      <td>43.394</td>\n",
              "      <td>21.583179</td>\n",
              "      <td>4.07</td>\n",
              "      <td>17.360685</td>\n",
              "      <td>36.090016</td>\n",
              "      <td>165.586198</td>\n",
              "      <td>567.16</td>\n",
              "      <td>62.62</td>\n",
              "      <td>148.745236</td>\n",
              "    </tr>\n",
              "    <tr>\n",
              "      <th>2014-04-02</th>\n",
              "      <td>46.058</td>\n",
              "      <td>21.500135</td>\n",
              "      <td>4.06</td>\n",
              "      <td>17.389532</td>\n",
              "      <td>36.029024</td>\n",
              "      <td>166.140351</td>\n",
              "      <td>567.00</td>\n",
              "      <td>62.72</td>\n",
              "      <td>148.018716</td>\n",
              "    </tr>\n",
              "  </tbody>\n",
              "</table>\n",
              "</div>"
            ],
            "text/plain": [
              "              TSLA       INTC   AMD  ...    GOOG     FB         IBM\n",
              "2014-03-27  41.464  21.018478  3.91  ...  558.46  60.97  145.173820\n",
              "2014-03-28  42.474  21.275915  3.88  ...  559.99  60.01  145.647970\n",
              "2014-03-31  41.690  21.437021  4.01  ...  556.97  60.24  147.208074\n",
              "2014-04-01  43.394  21.583179  4.07  ...  567.16  62.62  148.745236\n",
              "2014-04-02  46.058  21.500135  4.06  ...  567.00  62.72  148.018716\n",
              "\n",
              "[5 rows x 9 columns]"
            ]
          },
          "metadata": {
            "tags": []
          },
          "execution_count": 32
        }
      ]
    },
    {
      "cell_type": "code",
      "metadata": {
        "id": "aREWglLCwM9y"
      },
      "source": [
        "goog = stocks['GOOG']"
      ],
      "execution_count": 33,
      "outputs": []
    },
    {
      "cell_type": "code",
      "metadata": {
        "id": "Klf4fTpnwPsE"
      },
      "source": [
        "goog['LogPrice'] = np.log(goog)"
      ],
      "execution_count": 35,
      "outputs": []
    },
    {
      "cell_type": "code",
      "metadata": {
        "id": "770romeCwkCL"
      },
      "source": [
        "goog['LogRet'] = goog['LogPrice'].diff()"
      ],
      "execution_count": 36,
      "outputs": []
    },
    {
      "cell_type": "code",
      "metadata": {
        "id": "phz6x8JRwqbq",
        "colab": {
          "base_uri": "https://localhost:8080/",
          "height": 255
        },
        "outputId": "ab5cdf73-3f82-40f5-acb6-af3b6da5a782"
      },
      "source": [
        "goog['LogPrice'].plot();"
      ],
      "execution_count": 37,
      "outputs": [
        {
          "output_type": "display_data",
          "data": {
            "image/png": "[encoded data removed]",
            "text/plain": [
              "<Figure size 432x288 with 1 Axes>"
            ]
          },
          "metadata": {
            "tags": [],
            "needs_background": "light"
          }
        }
      ]
    },
    {
      "cell_type": "code",
      "metadata": {
        "id": "GUyhSJ5qwoBQ",
        "colab": {
          "base_uri": "https://localhost:8080/",
          "height": 255
        },
        "outputId": "70543c14-cd5e-4f92-acda-bca1a1a0b988"
      },
      "source": [
        "goog['LogRet'].plot();"
      ],
      "execution_count": 38,
      "outputs": [
        {
          "output_type": "display_data",
          "data": {
            "image/png": "[encoded data removed]",
            "text/plain": [
              "<Figure size 432x288 with 1 Axes>"
            ]
          },
          "metadata": {
            "tags": [],
            "needs_background": "light"
          }
        }
      ]
    },
    {
      "cell_type": "code",
      "metadata": {
        "id": "2DyW4-1jws59",
        "colab": {
          "base_uri": "https://localhost:8080/"
        },
        "outputId": "049d2672-845a-43ae-b492-b99d84109dd8"
      },
      "source": [
        "adf(goog['LogPrice'])"
      ],
      "execution_count": 39,
      "outputs": [
        {
          "output_type": "stream",
          "text": [
            "Test-Statistic: -0.218397886298283\n",
            "P-Value: 0.9362928115640364\n",
            "Non-Stationary\n"
          ],
          "name": "stdout"
        }
      ]
    },
    {
      "cell_type": "code",
      "metadata": {
        "id": "0aRjGtrWwvvp",
        "colab": {
          "base_uri": "https://localhost:8080/"
        },
        "outputId": "fabfd2e6-6cee-4239-c0b3-8b22930875ef"
      },
      "source": [
        "adf(goog['LogRet'].dropna())"
      ],
      "execution_count": 40,
      "outputs": [
        {
          "output_type": "stream",
          "text": [
            "Test-Statistic: -14.274532712802555\n",
            "P-Value: 1.3563727721465012e-26\n",
            "Stationary\n"
          ],
          "name": "stdout"
        }
      ]
    },
    {
      "cell_type": "code",
      "metadata": {
        "id": "hQ-mnSRvw0yX"
      },
      "source": [
        "sbux = stocks['AMD']\n",
        "sbux['LogPrice'] = np.log(sbux)\n",
        "sbux['LogRet'] = sbux['LogPrice'].diff()"
      ],
      "execution_count": 41,
      "outputs": []
    },
    {
      "cell_type": "code",
      "metadata": {
        "id": "5RJuQGBfw_fS",
        "colab": {
          "base_uri": "https://localhost:8080/",
          "height": 255
        },
        "outputId": "0b62f84b-06dd-4dcd-ace2-f8a05e0beeb8"
      },
      "source": [
        "sbux['LogPrice'].plot();"
      ],
      "execution_count": 42,
      "outputs": [
        {
          "output_type": "display_data",
          "data": {
            "image/png": "[encoded data removed]",
            "text/plain": [
              "<Figure size 432x288 with 1 Axes>"
            ]
          },
          "metadata": {
            "tags": [],
            "needs_background": "light"
          }
        }
      ]
    },
    {
      "cell_type": "code",
      "metadata": {
        "id": "KKKKGDGwxDi_",
        "colab": {
          "base_uri": "https://localhost:8080/",
          "height": 255
        },
        "outputId": "6fdc0401-b7b2-4c55-87b5-e7a7ddfa6e03"
      },
      "source": [
        "sbux['LogRet'].plot();"
      ],
      "execution_count": 43,
      "outputs": [
        {
          "output_type": "display_data",
          "data": {
            "image/png": "[encoded data removed]",
            "text/plain": [
              "<Figure size 432x288 with 1 Axes>"
            ]
          },
          "metadata": {
            "tags": [],
            "needs_background": "light"
          }
        }
      ]
    },
    {
      "cell_type": "code",
      "metadata": {
        "id": "MlKwJSBjxF8i",
        "colab": {
          "base_uri": "https://localhost:8080/"
        },
        "outputId": "411b8767-066e-43ac-f601-afe2852fd866"
      },
      "source": [
        "adf(sbux['LogPrice'])"
      ],
      "execution_count": 44,
      "outputs": [
        {
          "output_type": "stream",
          "text": [
            "Test-Statistic: 0.3533138992874625\n",
            "P-Value: 0.9796625452618963\n",
            "Non-Stationary\n"
          ],
          "name": "stdout"
        }
      ]
    },
    {
      "cell_type": "code",
      "metadata": {
        "id": "qaXRphVHxIkW",
        "colab": {
          "base_uri": "https://localhost:8080/"
        },
        "outputId": "9308763f-e7c1-4b6a-a4ba-f2d47f705cc0"
      },
      "source": [
        "adf(sbux['LogRet'].dropna())"
      ],
      "execution_count": 45,
      "outputs": [
        {
          "output_type": "stream",
          "text": [
            "Test-Statistic: -23.997675386541978\n",
            "P-Value: 0.0\n",
            "Stationary\n"
          ],
          "name": "stdout"
        }
      ]
    },
    {
      "cell_type": "code",
      "metadata": {
        "id": "1synhQk9sZzK"
      },
      "source": [
        "def adf_noverbose(x):\n",
        "  x=x.dropna()\n",
        "  return adf(x,verbose=False)"
      ],
      "execution_count": 52,
      "outputs": []
    },
    {
      "cell_type": "code",
      "metadata": {
        "colab": {
          "base_uri": "https://localhost:8080/"
        },
        "id": "lafZgY0BuBEz",
        "outputId": "6bf9605f-3590-487a-b166-1f3c746156a1"
      },
      "source": [
        "stocks.apply(adf_noverbose,axis=0)"
      ],
      "execution_count": 58,
      "outputs": [
        {
          "output_type": "execute_result",
          "data": {
            "text/plain": [
              "TSLA    Non-Stationary\n",
              "INTC    Non-Stationary\n",
              "AMD     Non-Stationary\n",
              "AAPL    Non-Stationary\n",
              "MSFT    Non-Stationary\n",
              "SPY     Non-Stationary\n",
              "GOOG    Non-Stationary\n",
              "FB      Non-Stationary\n",
              "IBM         Stationary\n",
              "dtype: object"
            ]
          },
          "metadata": {
            "tags": []
          },
          "execution_count": 58
        }
      ]
    },
    {
      "cell_type": "code",
      "metadata": {
        "colab": {
          "base_uri": "https://localhost:8080/"
        },
        "id": "5MT1aM7zuJAQ",
        "outputId": "9de13fa8-81a8-46e0-b38e-1e5087dabedd"
      },
      "source": [
        "np.log(stocks).apply(adf_noverbose,axis=0)"
      ],
      "execution_count": 59,
      "outputs": [
        {
          "output_type": "execute_result",
          "data": {
            "text/plain": [
              "TSLA    Non-Stationary\n",
              "INTC    Non-Stationary\n",
              "AMD     Non-Stationary\n",
              "AAPL    Non-Stationary\n",
              "MSFT    Non-Stationary\n",
              "SPY     Non-Stationary\n",
              "GOOG    Non-Stationary\n",
              "FB      Non-Stationary\n",
              "IBM         Stationary\n",
              "dtype: object"
            ]
          },
          "metadata": {
            "tags": []
          },
          "execution_count": 59
        }
      ]
    },
    {
      "cell_type": "code",
      "metadata": {
        "colab": {
          "base_uri": "https://localhost:8080/"
        },
        "id": "QcMSu7kCrVu8",
        "outputId": "7e99e98f-ab0c-4de5-8741-f62fb69ad944"
      },
      "source": [
        "np.log(stocks).diff().apply(adf_noverbose,axis=0)"
      ],
      "execution_count": 62,
      "outputs": [
        {
          "output_type": "execute_result",
          "data": {
            "text/plain": [
              "TSLA    Stationary\n",
              "INTC    Stationary\n",
              "AMD     Stationary\n",
              "AAPL    Stationary\n",
              "MSFT    Stationary\n",
              "SPY     Stationary\n",
              "GOOG    Stationary\n",
              "FB      Stationary\n",
              "IBM     Stationary\n",
              "dtype: object"
            ]
          },
          "metadata": {
            "tags": []
          },
          "execution_count": 62
        }
      ]
    },
    {
      "cell_type": "code",
      "metadata": {
        "colab": {
          "base_uri": "https://localhost:8080/"
        },
        "id": "aFxuekGarzrm",
        "outputId": "c92aa160-7c21-4b58-8047-d05778f891ca"
      },
      "source": [
        " [c.max() for l,c in np.log(stocks).diff().items()]"
      ],
      "execution_count": 65,
      "outputs": [
        {
          "output_type": "execute_result",
          "data": {
            "text/plain": [
              "[0.18144501798943757,\n",
              " 0.1783244118102436,\n",
              " 0.4206169131287666,\n",
              " 0.11315745846657066,\n",
              " 0.13292895317302378,\n",
              " 0.08673100577521708,\n",
              " 0.14887186294533095,\n",
              " 0.14428595371948827,\n",
              " 0.1070684580062844]"
            ]
          },
          "metadata": {
            "tags": []
          },
          "execution_count": 65
        }
      ]
    },
    {
      "cell_type": "code",
      "metadata": {
        "id": "Wx66mD1mtbHx"
      },
      "source": [
        ""
      ],
      "execution_count": null,
      "outputs": []
    }
  ]
}